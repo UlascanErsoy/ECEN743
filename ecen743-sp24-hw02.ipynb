{
 "cells": [
  {
   "cell_type": "markdown",
   "metadata": {},
   "source": [
    "# ECEN743 Spring 2024 - Assignment 2\n",
    "## Tabular RL Algorithms\n",
    "\n",
    "In this assignment, you will solve the FrozenLake-v0 environment from [Gymnasium](https://gymnasium.farama.org/). You will be using this helper file to answer questions in your assignment. \n",
    "\n",
    "**Note that you do not need to start from the scratch. Only write your code between the following lines. Do not modify other parts.**  \n",
    "\"### YOUR CODE HERE\"  \n",
    "\"### END OF YOUR CODE\"\n",
    "\n",
    "## Introduction of the FrozenLake Environment\n",
    "\n",
    "Frozen lake involves crossing a frozen lake from start to goal without falling into any holes by walking over the frozen lake. The player may not always move in the intended direction due to the slippery nature of the frozen lake. The game starts with the player at location [0,0] of the frozen lake grid world with the goal located at far extent of the world e.g. [3,3] for the 4x4 environment. Holes in the ice are distributed in set locations using a pre-determined map, and the player makes moves until they reach the goal or fall in a hole. The map is given below for your reference\n",
    "\n",
    "        SFFF\n",
    "        FHFH\n",
    "        FFFH\n",
    "        HFFG\n",
    "    S : starting point, safe\n",
    "    F : frozen surface, safe\n",
    "    H : hole, fall to your doom\n",
    "    G : goal, where the frisbee is located\n",
    "    \n",
    "    \n",
    "### Action Space\n",
    "The player/agent can take 4 discrete actions, in the range {0,3}\n",
    "* 0: Move left\n",
    "* 1: Move down\n",
    "* 2: Move right \n",
    "* 4: Move up\n",
    "\n",
    "\n",
    "### State Space\n",
    "The environment consists of 16 states. The state is a value representing the player’s current position as current_row * nrows + current_col (where both the row and col start at 0).\n",
    "For example, the goal position in the 4x4 map can be calculated as follows: 3 * 4 + 3 = 15.\n",
    "\n",
    "\n",
    "### Starting State\n",
    "The episode starts with the player in state [0] (location [0, 0]).\n",
    "\n",
    "\n",
    "### Rewards \n",
    "\n",
    "* Reach goal: +1\n",
    "* Reach hole: 0\n",
    "* Reach frozen: 0\n",
    "\n",
    "### Episode End\n",
    "The episode ends if the following happens:\n",
    "#### 1.Termination:\n",
    "* The player moves into a hole.\n",
    "* The player reaches the goal at max(nrow) * max(ncol) - 1 (location [max(nrow)-1, max(ncol)-1]).\n",
    "\n",
    "#### 2.Truncation:\n",
    "* The length of the episode is 100 for 4x4 environment.\n",
    "\n",
    "For more info refer to source: https://gymnasium.farama.org/environments/toy_text/frozen_lake/\n",
    "\n",
    "### The Environment Parameters\n",
    "* Use discount factor, $\\gamma = 0.9$\n",
    "* The environment is slippery, ie., the transition kernel is stochastic.\n",
    "* The transition kernel P is a dictionary. \n",
    "* P[state][action] is tuples with (probability, nextstate, reward, terminal)"
   ]
  },
  {
   "cell_type": "markdown",
   "metadata": {},
   "source": [
    "**Run the following initializer. Make sure you can execute it without any error.**\n",
    "\n",
    "If you wish to finish this assignment using Google Colab. Uncomment the following commands and run them."
   ]
  },
  {
   "cell_type": "code",
   "execution_count": 1,
   "metadata": {},
   "outputs": [],
   "source": [
    "# !pip install swig\n",
    "# !pip install gymnasium[box2d]"
   ]
  },
  {
   "cell_type": "code",
   "execution_count": 2,
   "metadata": {},
   "outputs": [],
   "source": [
    "import gymnasium as gym\n",
    "%matplotlib inline\n",
    "import seaborn\n",
    "import matplotlib.pyplot as plt\n",
    "from matplotlib.colors import LogNorm\n",
    "import numpy as np\n",
    "np.set_printoptions(precision=4, suppress=True)\n",
    "\n",
    "env = gym.make('FrozenLake-v1', desc=None,map_name=\"4x4\", is_slippery=True)\n",
    "gamma = 0.9\n",
    "\n",
    "\n",
    "def fancy_visual(value_func,policy_int):    \n",
    "    grid = 4    \n",
    "    f, ax = plt.subplots(figsize=(11, 9))\n",
    "    cmap = seaborn.diverging_palette(220, 10, as_cmap=True)\n",
    "    reshaped = np.reshape(value_func,(grid,grid))\n",
    "    seaborn.heatmap(reshaped, cmap=\"icefire\",vmax=1.1, robust = True,\n",
    "                square=True, xticklabels=grid+1, yticklabels=grid+1,\n",
    "                linewidths=.5, cbar_kws={\"shrink\": .5}, ax=ax, annot=True, fmt=\"f\")\n",
    "    counter = 0\n",
    "    for j in range(0, 4):\n",
    "        for i in range(0, 4):\n",
    "            if int(policy_int[counter]) == 1:\n",
    "                plt.text(i+0.5, j+0.7, u'\\u2193', fontsize=12)\n",
    "            elif int(policy_int[counter]) == 3:\n",
    "                plt.text(i+0.5, j+0.7, u'\\u2191', fontsize=12)\n",
    "            elif int(policy_int[counter]) == 0:\n",
    "                plt.text(i+0.5, j+0.7, u'\\u2190', fontsize=12)\n",
    "            else:\n",
    "                plt.text(i+0.5, j+0.7, u'\\u2192', fontsize=12)\n",
    "            counter=counter+1\n",
    "\n",
    "    plt.title('Heatmap of policy iteration with value function values and directions')\n",
    "    print('Value Function',value_func)\n",
    "    print('Policy',policy_int)\n",
    "    plt.show()\n",
    "\n",
    "# The optimal Q-value function from HW01\n",
    "Q_opt = np.array([[0.06887237, 0.06663045, 0.06663045, 0.05974078],\n",
    "                 [0.03907988, 0.04297989, 0.04073797, 0.06139887],\n",
    "                 [0.07439831, 0.06881719, 0.0727172,  0.05747583],\n",
    "                 [0.03905686, 0.03905686, 0.03347574, 0.05579473],\n",
    "                 [0.09183769, 0.07117679, 0.06428712, 0.04821147],\n",
    "                 [0.,         0.,         0.,         0.        ],\n",
    "                 [0.11220205, 0.08988305, 0.11220205, 0.02231899],\n",
    "                 [0.,         0.,         0.,         0.        ],\n",
    "                 [0.07117679, 0.11787214, 0.1017965,  0.14542271],\n",
    "                 [0.15760471, 0.24748776, 0.20386154, 0.13350927],\n",
    "                 [0.29961112, 0.26595078, 0.22536519, 0.10790627],\n",
    "                 [0.,         0.,         0.,         0.        ],\n",
    "                 [0.,         0.,         0.,         0.        ],\n",
    "                 [0.18822442, 0.30568334, 0.37992926, 0.26595078],\n",
    "                 [0.39556639, 0.63901667, 0.61492124, 0.53719488],\n",
    "                 [0.,         0.,         0.,         0.        ]])"
   ]
  },
  {
   "cell_type": "markdown",
   "metadata": {},
   "source": [
    "## 1. Tabular Q-Learning\n",
    "\n",
    "### The decay of learning rate and exploration factor\n",
    "We aim to learn the optimal Q-value function through online exploration. Intuitively, after sufficient exploration, our learner should already have good amount of awareness in the scary FrozenLake. Too much exploration results in a sub-optimal policy. Hence, we should dynamically adjust our exploration scheme.\n",
    "\n",
    "The convergence of an online learning algorithm is highly correlated to the stochasticity of the environment. As a result, you may see your Q-value function fluctuates frequently. This could be because the learner just faced a bad episode! However, after training for a while, your learner should have seen sufficient number of both good and bad episodes. Decaying the learning rate can help the algorithm to converge to the optimal policy.\n",
    "\n",
    "### Your Task\n",
    "1. Implement `lr_decay` and `epsilon_decay`. Experiment with linear decay, exponential decay, etc. You do not need to find **THE** best decay scheme.\n",
    "2. Implement `epsilon_greedy'. One way to do this is to sample a Bernoulli random variable with parameter $\\epsilon$. Note that, $\\epsilon$ is the probability that **you choose a random action instead of the greedy action**.\n",
    "3. Implement Q-Learning update."
   ]
  },
  {
   "cell_type": "code",
   "execution_count": 3,
   "metadata": {},
   "outputs": [],
   "source": [
    "def lr_decay(k):\n",
    "    \"\"\"Return the learning rate for k-th episode\n",
    "\n",
    "    Args:\n",
    "        k: The index of episode.\n",
    "    Returns:\n",
    "        lr: The learning rate for this episode.\n",
    "    \"\"\"\n",
    "    ### YOUR CODE HERE\n",
    "    # TASK 1\n",
    "    lr = 0.5 * np.exp(-0.00001 * k)\n",
    "    ### END OF YOUR CODE\n",
    "    return lr\n",
    "\n",
    "def epsilon_decay(k):\n",
    "    \"\"\"Return the decayed exploration factor\n",
    "    \n",
    "    Args:\n",
    "        k: The index of episode.\n",
    "    Returns:\n",
    "        epsilon: The exploration factor for this episode.\n",
    "    \"\"\"    \n",
    "    ### YOUR CODE HERE\n",
    "    # TASK 1\n",
    "    epsilon = 0.5 * np.exp(-0.0001 * k)\n",
    "    ### END OF YOUR CODE\n",
    "    return epsilon\n",
    "\n",
    "def epsilon_greedy(Q, s, epsilon):\n",
    "    \"\"\"Outputs an action acoording to epsilon-greedy policy\n",
    "\n",
    "    Args:\n",
    "        Q (matrix of |S|x|A|): matrix of Q-functions, where Q(s,a) is at s-th row and a-th column\n",
    "        s (int): current state where next action is inquired upon\n",
    "        epsilon (0<=float<=1): Pr(random exploration and avoid optimal action) = epsilon\n",
    "\n",
    "    Return:\n",
    "        a (int): next action\n",
    "    \"\"\"\n",
    "    ### YOUR CODE HERE\n",
    "    # TASK 2\n",
    "    a = np.argmax(Q[s]) if np.random.uniform() >= epsilon else np.random.randint(0,3) \n",
    "    ### END OF YOUR CODE\n",
    "    return int(a)"
   ]
  },
  {
   "cell_type": "code",
   "execution_count": 4,
   "metadata": {},
   "outputs": [],
   "source": [
    "no_of_actions = env.action_space.n\n",
    "no_of_states = env.observation_space.n\n",
    "\n",
    "max_step = 100\n",
    "max_episode = 30000\n",
    "\n",
    "Q = np.zeros((no_of_states, no_of_actions))\n",
    "G_list = [] # cumulative discounted reward in episode k\n",
    "convergence_list = [] # record ||Q_k-Q_STAR||_{2}\n",
    "\n",
    "for k in range(max_episode):\n",
    "    s0, _ = env.reset()  # start new episode\n",
    "    path_k = [s0]  # initial state for new episode\n",
    "    G_k = 0  # reset cumulative discounted reward for episode k\n",
    "    for t in range(max_step):\n",
    "        s_t = path_k[-1] # observe current state s_t\n",
    "        a_t = epsilon_greedy(Q, s_t, epsilon_decay(k))  # decide what action to take at step t\n",
    "        ns_t, r_t, terminal, _, _ = env.step(a_t)  # take a step\n",
    "        ### YOUR CODE HERE\n",
    "        # TASK 3\n",
    "        # Hint: you should call lr_decay somewhere here.\n",
    "        lr = lr_decay(k)\n",
    "        Q[s_t][a_t] = Q[s_t][a_t] + lr * (r_t + gamma * np.max(Q[ns_t]) - Q[s_t][a_t])\n",
    "        ### END OF YOUR CODE\n",
    "        G_k += (gamma ** t) * r_t  # update cumulative discounted reward\n",
    "        path_k.append(ns_t)  # record next state\n",
    "        if terminal:  # next state is a terminal state, episode ended\n",
    "            break\n",
    "    convergence_list.append(np.linalg.norm(Q.flatten()-Q_opt.flatten())) # calc and store Euclidean norm of Q_k-Q*\n",
    "    G_list.append(G_k) # record cumulative discounted reward for episode k"
   ]
  },
  {
   "cell_type": "code",
   "execution_count": 5,
   "metadata": {},
   "outputs": [],
   "source": [
    "env.close()"
   ]
  },
  {
   "cell_type": "markdown",
   "metadata": {},
   "source": [
    "### 1a. Plot $G_k$ using a sliding window\n",
    "\n",
    "$G_k$ is the cumulative reward obtained in episode $k$."
   ]
  },
  {
   "cell_type": "code",
   "execution_count": 13,
   "metadata": {},
   "outputs": [
    {
     "data": {
      "text/plain": [
       "[<matplotlib.lines.Line2D at 0x787fb1908520>]"
      ]
     },
     "execution_count": 13,
     "metadata": {},
     "output_type": "execute_result"
    },
    {
     "data": {
      "image/png": "[encoded data removed]",
      "text/plain": [
       "<Figure size 640x480 with 1 Axes>"
      ]
     },
     "metadata": {},
     "output_type": "display_data"
    }
   ],
   "source": [
    "### YOUR CODE HERE\n",
    "# Some plot stuff\n",
    "Gk_avg = np.cumsum(G_list)\n",
    "Gk_avg = Gk_avg[1000:] - Gk_avg[:-1000]\n",
    "plt.plot(Gk_avg)\n",
    "### END OF YOUR CODE"
   ]
  },
  {
   "cell_type": "markdown",
   "metadata": {},
   "source": [
    "### 1b. Plot $||Q_k - Q^*||$\n",
    "\n",
    "Note that use `Q_opt` for $Q^*$. It is given to you in the previous section of this file. You do not need to copy it from HW1."
   ]
  },
  {
   "cell_type": "code",
   "execution_count": 7,
   "metadata": {},
   "outputs": [],
   "source": [
    "### YOUR CODE HERE\n",
    "# Some plot stuff\n",
    "### END OF YOUR CODE"
   ]
  },
  {
   "cell_type": "markdown",
   "metadata": {},
   "source": [
    "### 1c. Question\n",
    "\n",
    "What is the policy and Q-value function obtained at the end of the learning? Are you\n",
    "able to learn the optimal policy? That is, how to get the optimal policy from the optimal Q-value function?"
   ]
  },
  {
   "cell_type": "code",
   "execution_count": 8,
   "metadata": {},
   "outputs": [
    {
     "name": "stdout",
     "output_type": "stream",
     "text": [
      "[[0.0405 0.0272 0.021  0.    ]\n",
      " [0.0046 0.0404 0.0058 0.    ]\n",
      " [0.0114 0.0666 0.0068 0.    ]\n",
      " [0.0007 0.0013 0.0014 0.    ]\n",
      " [0.0759 0.0185 0.0085 0.    ]\n",
      " [0.     0.     0.     0.    ]\n",
      " [0.006  0.2236 0.0083 0.    ]\n",
      " [0.     0.     0.     0.    ]\n",
      " [0.0102 0.0846 0.0006 0.    ]\n",
      " [0.0722 0.2579 0.0635 0.    ]\n",
      " [0.1978 0.3701 0.0435 0.    ]\n",
      " [0.     0.     0.     0.    ]\n",
      " [0.     0.     0.     0.    ]\n",
      " [0.2156 0.1557 0.2786 0.    ]\n",
      " [0.2998 0.8046 0.4719 0.    ]\n",
      " [0.     0.     0.     0.    ]]\n",
      "[[0.0689 0.0666 0.0666 0.0597]\n",
      " [0.0391 0.043  0.0407 0.0614]\n",
      " [0.0744 0.0688 0.0727 0.0575]\n",
      " [0.0391 0.0391 0.0335 0.0558]\n",
      " [0.0918 0.0712 0.0643 0.0482]\n",
      " [0.     0.     0.     0.    ]\n",
      " [0.1122 0.0899 0.1122 0.0223]\n",
      " [0.     0.     0.     0.    ]\n",
      " [0.0712 0.1179 0.1018 0.1454]\n",
      " [0.1576 0.2475 0.2039 0.1335]\n",
      " [0.2996 0.266  0.2254 0.1079]\n",
      " [0.     0.     0.     0.    ]\n",
      " [0.     0.     0.     0.    ]\n",
      " [0.1882 0.3057 0.3799 0.266 ]\n",
      " [0.3956 0.639  0.6149 0.5372]\n",
      " [0.     0.     0.     0.    ]]\n"
     ]
    }
   ],
   "source": [
    "### YOUR CODE HERE\n",
    "print(Q)\n",
    "print(Q_opt)\n",
    "# Compute the final policy\n",
    "### END OF YOUR CODE"
   ]
  },
  {
   "cell_type": "markdown",
   "metadata": {},
   "source": [
    "**Write your answer below.**  \n",
    "Answer:"
   ]
  },
  {
   "cell_type": "markdown",
   "metadata": {},
   "source": [
    "## 2. Behavior Policy  \n",
    "\n",
    "Implement tabular Q-learning with a uniformly random policy (where\n",
    "each action is taken with equal probability) as the behavior policy. Compare the convergence\n",
    "with the ε-greedy exploration approach. Explain your observations and inference. Can you\n",
    "implement a better behavior policy and show its effectiveness?"
   ]
  },
  {
   "cell_type": "code",
   "execution_count": 9,
   "metadata": {},
   "outputs": [],
   "source": [
    "### YOUR CODE HERE\n",
    "# Freestyle!\n",
    "### END OF YOUR CODE"
   ]
  },
  {
   "cell_type": "markdown",
   "metadata": {},
   "source": [
    "**Write your answer below.**  \n",
    "Answer:"
   ]
  },
  {
   "cell_type": "markdown",
   "metadata": {},
   "source": [
    "## 3. TD-Learning\n",
    "\n",
    "Consider the following polices: (i) the optimal policy obtained from QVI,\n",
    "and (ii) a uniformly random policy where each action is taken with equal probability. Learn\n",
    "the value of the these polices using:"
   ]
  },
  {
   "cell_type": "markdown",
   "metadata": {},
   "source": [
    "### 3a. Monte Carlo (MC) Learning"
   ]
  },
  {
   "cell_type": "code",
   "execution_count": 10,
   "metadata": {},
   "outputs": [],
   "source": [
    "### YOUR CODE HERE\n",
    "# Freestyle!\n",
    "### END OF YOUR CODE"
   ]
  },
  {
   "cell_type": "markdown",
   "metadata": {},
   "source": [
    "### 3b. Temporal Difference (TD) Learning"
   ]
  },
  {
   "cell_type": "code",
   "execution_count": 11,
   "metadata": {},
   "outputs": [],
   "source": [
    "### YOUR CODE HERE\n",
    "# Freestyle!\n",
    "### END OF YOUR CODE"
   ]
  },
  {
   "cell_type": "markdown",
   "metadata": {},
   "source": [
    "### 3c. What are the trade-offs of between MC vs TD?"
   ]
  },
  {
   "cell_type": "markdown",
   "metadata": {},
   "source": [
    "**Write your answer below.**  \n",
    "Answer:"
   ]
  }
 ],
 "metadata": {
  "kernelspec": {
   "display_name": "Python 3 (ipykernel)",
   "language": "python",
   "name": "python3"
  },
  "language_info": {
   "codemirror_mode": {
    "name": "ipython",
    "version": 3
   },
   "file_extension": ".py",
   "mimetype": "text/x-python",
   "name": "python",
   "nbconvert_exporter": "python",
   "pygments_lexer": "ipython3",
   "version": "3.10.12"
  }
 },
 "nbformat": 4,
 "nbformat_minor": 4
}
